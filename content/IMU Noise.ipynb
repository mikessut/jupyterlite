{
  "metadata": {
    "kernelspec": {
      "name": "python",
      "display_name": "Python (Pyodide)",
      "language": "python"
    },
    "language_info": {
      "codemirror_mode": {
        "name": "python",
        "version": 3
      },
      "file_extension": ".py",
      "mimetype": "text/x-python",
      "name": "python",
      "nbconvert_exporter": "python",
      "pygments_lexer": "ipython3",
      "version": "3.8"
    }
  },
  "nbformat_minor": 5,
  "nbformat": 4,
  "cells": [
    {
      "cell_type": "code",
      "source": "import piplite\nawait piplite.install('pint')",
      "metadata": {
        "trusted": true
      },
      "execution_count": 3,
      "outputs": [],
      "id": "8f678918"
    },
    {
      "cell_type": "code",
      "source": "from pint import UnitRegistry\nu = UnitRegistry()\nimport numpy as np\nimport math",
      "metadata": {
        "trusted": true
      },
      "execution_count": 4,
      "outputs": [],
      "id": "19fa5aa4-1440-4a01-ba89-ca672f7c7cb9"
    },
    {
      "cell_type": "markdown",
      "source": "# Gyro",
      "metadata": {},
      "id": "70f185c8"
    },
    {
      "cell_type": "code",
      "source": "arw = 0.06 * u.deg / u.hr ** 0.5\nprint(arw.to(u.mdeg / u.sec / u.Hz**.5))",
      "metadata": {
        "trusted": true
      },
      "execution_count": 9,
      "outputs": [
        {
          "name": "stdout",
          "text": "1.0 millidegree / hertz ** 0.5 / second\n",
          "output_type": "stream"
        }
      ],
      "id": "0b5eed4c"
    },
    {
      "cell_type": "markdown",
      "source": "# Accel",
      "metadata": {},
      "id": "943ebac8"
    },
    {
      "cell_type": "code",
      "source": "nd = 0.3 * u.ft / u.sec / u.hr**.5\nu.define('uG = 9.81e-6 * meter / sec**2')\nu.define('G = 9.81 * meter / sec**2')\nu.define('mG = 9.81e-3 * meter / sec**2')\nprint(nd.to('uG / Hz**.5'))\nprint(nd.to('G / Hz**.5'))\n\nnd2 = .01 * u.mG / u.Hz**.5\nprint(nd2.to('uG / Hz**.5'))\nprint(nd2.to('ft / sec / hr**.5'))",
      "metadata": {
        "trusted": true
      },
      "execution_count": 10,
      "outputs": [
        {
          "name": "stdout",
          "text": "155.35168195718657 uG / hertz ** 0.5\n0.00015535168195718655 G / hertz ** 0.5\n10.0 uG / hertz ** 0.5\n0.019311023622047244 foot / hour ** 0.5 / second\n",
          "output_type": "stream"
        }
      ],
      "id": "16b6c889"
    },
    {
      "cell_type": "code",
      "source": "nd = 30 * u.uG / u.Hz**.5\nprint(nd.to(u.ft / u.sec / u.hr**.5))",
      "metadata": {
        "trusted": true
      },
      "execution_count": 11,
      "outputs": [
        {
          "name": "stdout",
          "text": "0.05793307086614174 foot / hour ** 0.5 / second\n",
          "output_type": "stream"
        }
      ],
      "id": "c0a7edba"
    },
    {
      "cell_type": "code",
      "source": "",
      "metadata": {},
      "execution_count": null,
      "outputs": [],
      "id": "1db9b7b7"
    }
  ]
}