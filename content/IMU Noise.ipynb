{
 "cells": [
  {
   "cell_type": "code",
   "execution_count": 1,
   "id": "8f678918",
   "metadata": {},
   "outputs": [],
   "source": [
    "import piplite\n",
    "piplite.install('pint')\n",
    "from pint import UnitRegistry\n",
    "u = UnitRegistry()\n",
    "import numpy as np\n",
    "import math"
   ]
  },
  {
   "cell_type": "markdown",
   "id": "70f185c8",
   "metadata": {},
   "source": [
    "# Gyro"
   ]
  },
  {
   "cell_type": "code",
   "execution_count": null,
   "id": "0b5eed4c",
   "metadata": {},
   "outputs": [],
   "source": [
    "arw = 0.0035 * u.deg / u.hr ** 0.5"
   ]
  },
  {
   "cell_type": "markdown",
   "id": "943ebac8",
   "metadata": {},
   "source": [
    "# Accel"
   ]
  },
  {
   "cell_type": "code",
   "execution_count": 9,
   "id": "16b6c889",
   "metadata": {},
   "outputs": [
    {
     "name": "stdout",
     "output_type": "stream",
     "text": [
      "155.35168195718657 uG / hertz ** 0.5\n",
      "0.00015535168195718655 G / hertz ** 0.5\n",
      "10.0 uG / hertz ** 0.5\n",
      "0.019311023622047244 foot / hour ** 0.5 / second\n"
     ]
    }
   ],
   "source": [
    "nd = 0.3 * u.ft / u.sec / u.hr**.5\n",
    "u.define('uG = 9.81e-6 * meter / sec**2')\n",
    "u.define('G = 9.81 * meter / sec**2')\n",
    "u.define('mG = 9.81e-3 * meter / sec**2')\n",
    "print(nd.to('uG / Hz**.5'))\n",
    "print(nd.to('G / Hz**.5'))\n",
    "\n",
    "nd2 = .01 * u.mG / u.Hz**.5\n",
    "print(nd2.to('uG / Hz**.5'))\n",
    "print(nd2.to('ft / sec / hr**.5'))"
   ]
  },
  {
   "cell_type": "code",
   "execution_count": 10,
   "id": "c0a7edba",
   "metadata": {},
   "outputs": [
    {
     "name": "stdout",
     "output_type": "stream",
     "text": [
      "0.05793307086614174 foot / hour ** 0.5 / second\n"
     ]
    }
   ],
   "source": [
    "nd = 30 * u.uG / u.Hz**.5\n",
    "print(nd.to(u.ft / u.sec / u.hr**.5))"
   ]
  },
  {
   "cell_type": "code",
   "execution_count": null,
   "id": "1db9b7b7",
   "metadata": {},
   "outputs": [],
   "source": []
  }
 ],
 "metadata": {
  "kernelspec": {
   "display_name": "Python 3 (ipykernel)",
   "language": "python",
   "name": "python3"
  },
  "language_info": {
   "codemirror_mode": {
    "name": "ipython",
    "version": 3
   },
   "file_extension": ".py",
   "mimetype": "text/x-python",
   "name": "python",
   "nbconvert_exporter": "python",
   "pygments_lexer": "ipython3",
   "version": "3.11.4"
  }
 },
 "nbformat": 4,
 "nbformat_minor": 5
}
