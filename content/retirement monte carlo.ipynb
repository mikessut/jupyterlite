{
  "metadata": {
    "kernelspec": {
      "name": "python",
      "display_name": "Python (Pyodide)",
      "language": "python"
    },
    "language_info": {
      "codemirror_mode": {
        "name": "python",
        "version": 3
      },
      "file_extension": ".py",
      "mimetype": "text/x-python",
      "name": "python",
      "nbconvert_exporter": "python",
      "pygments_lexer": "ipython3",
      "version": "3.8"
    }
  },
  "nbformat_minor": 4,
  "nbformat": 4,
  "cells": [
    {
      "cell_type": "code",
      "source": "import numpy as np\nimport matplotlib.pyplot as plt\nimport datetime\n",
      "metadata": {
        "trusted": true
      },
      "outputs": [],
      "execution_count": 2
    },
    {
      "cell_type": "code",
      "source": "\ninitial_value = 4.5e6\nannual_withdrawal = 100e3\nwithdrawal_increase_rate = 0.0225\n\ninvestment_mean = 0.11\ninvestment_std = .22\n\nYOB = 1978\n\nnsims = 30000\nmax_age = 95\n",
      "metadata": {
        "trusted": true
      },
      "outputs": [],
      "execution_count": 3
    },
    {
      "cell_type": "code",
      "source": "\nage = (datetime.datetime.now().year - YOB)\nnyears = max_age - age\n\nsims = np.zeros((nyears+1, nsims))\nsims[0, :] = initial_value\n\nruins = 0\nannual_withdrawals = annual_withdrawal * np.cumprod(1 + np.ones((nyears, )) * withdrawal_increase_rate)\n\nruin_age = []\n\nfor n in range(nsims):\n    # lrs = np.log(1 + investment_mean + np.random.randn(nyears) * investment_std)\n    lrs = investment_mean + np.random.randn(nyears) * investment_std\n    # FV = PV * exp(r)\n    sim = initial_value\n    for m, lr in enumerate(lrs):\n        this_age = age + m + 1\n        sim = sim * np.exp(lr) - annual_withdrawals[m]\n        # if (sim < annual_withdrawal) and this_age < 80:\n        if (sim < annual_withdrawal):\n            ruins += 1\n            ruin_age.append(this_age)\n            break\n\nruin_age = np.array(ruin_age)\n\n",
      "metadata": {
        "trusted": true
      },
      "outputs": [],
      "execution_count": 8
    },
    {
      "cell_type": "code",
      "source": "for a in [60, 65, 70, 75, 80, 85, 90]:\n    print(f\"% Ruin younger than {a}: {(ruin_age < a).sum() / nsims * 100:.1f}\")\nprint(f\"Prob of ruin: {ruins / nsims * 100:.1f}\")",
      "metadata": {
        "trusted": true
      },
      "outputs": [
        {
          "name": "stdout",
          "text": "% Ruin younger than 60: 0.0\n% Ruin younger than 65: 0.2\n% Ruin younger than 70: 0.5\n% Ruin younger than 75: 0.8\n% Ruin younger than 80: 1.2\n% Ruin younger than 85: 1.5\n% Ruin younger than 90: 1.7\nProb of ruin: 2.0\n",
          "output_type": "stream"
        }
      ],
      "execution_count": 10
    },
    {
      "cell_type": "code",
      "source": "",
      "metadata": {
        "trusted": true
      },
      "outputs": [],
      "execution_count": null
    }
  ]
}